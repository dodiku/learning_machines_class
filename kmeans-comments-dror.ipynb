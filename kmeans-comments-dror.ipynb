{
 "cells": [
  {
   "cell_type": "code",
   "execution_count": 38,
   "metadata": {},
   "outputs": [],
   "source": [
    "# Imports\n",
    "import matplotlib.pyplot as plt\n",
    "from mpl_toolkits.mplot3d import Axes3D\n",
    "import numpy as np\n",
    "import random\n",
    "\n",
    "# Set some styling rules\n",
    "%matplotlib inline\n",
    "plt.style.use('ggplot')\n",
    "\n",
    "class kmeans:\n",
    "    def __init__(self, minimum = 0, maximum = 100, dimensions = 2, pointNum = 50, clusterNum = 5):\n",
    "        \n",
    "        self.is3D = True if dimensions == 3 else False\n",
    "        \n",
    "        #Params passed to the constructor\n",
    "        self.min = minimum\n",
    "        self.max = maximum\n",
    "        self.dim = dimensions\n",
    "        self.clusterNum = clusterNum\n",
    "        \n",
    "        #Some class props\n",
    "        self.iterations = 0\n",
    "        self.lastCentroids = None\n",
    "        \n",
    "        #The family each point belongs to\n",
    "        self.family = np.zeros(pointNum)\n",
    "        \n",
    "        #Make random points (ints) in  tuples based on dimensions and number of points specified to the constructor\n",
    "        self.points = np.random.randint(maximum, size=(pointNum, dimensions))\n",
    "        \n",
    "        #Make random Clusters centers\n",
    "        self.clusters = np.random.randint(maximum, size=(clusterNum, dimensions))\n",
    "        \n",
    "        #Set the labels and the cluster centers\n",
    "        for i, pointCoords in enumerate(self.points):\n",
    "            dist = np.linalg.norm(self.points[i]-self.clusters[0])\n",
    "            for j, clusterCoords in enumerate(self.clusters):\n",
    "                if(dist > np.linalg.norm(self.points[i]-self.clusters[j])):\n",
    "                    self.family[i] = j\n",
    "                    \n",
    "        self.__draw__()\n",
    "    \n",
    "    \n",
    "    def calculateCentroids(self):\n",
    "        #Match the current state to the last state\n",
    "        self.lastCentroids = np.copy(self.clusters)\n",
    "        \n",
    "        #Increment the iterations counter\n",
    "        self.iterations += 1\n",
    "        \n",
    "         #Calculate new center\n",
    "        for i, pointCoords in enumerate(self.points):\n",
    "            dist = np.linalg.norm(self.points[i]-self.clusters[0])\n",
    "            for j, clusterCoords in enumerate(self.clusters):\n",
    "                if(dist > np.linalg.norm(self.points[i]-self.clusters[j])):\n",
    "                    self.family[i] = j\n",
    "                      \n",
    "    def center(self):\n",
    "        #Move the cluster centers to the new position\n",
    "        centers = np.zeros(self.clusters.shape)\n",
    "        #Get the new position and save it\n",
    "        for i, point in enumerate(self.points):\n",
    "            centers[int(self.family[i])] = centers[int(self.family[i])] + self.points[i] ''' [1]'''\n",
    "            \n",
    "            '''\n",
    "            [1] i think that this procedure is incorrect.\n",
    "            to explain it, let's try to calculate the new center for cluster 1.\n",
    "            to do it, we need to do the following:\n",
    "                1) find all the points that are assigned to cluster 1\n",
    "                2) calculate the sum of X and the sum of Y of these points\n",
    "                3) divide the result by the number of points that are assigned to cluster 1\n",
    "                \n",
    "            programmatically, we will do it in reverse:\n",
    "                1) we will go over self.family (aka for i in self.family:)\n",
    "                2) we will sum the points based on the value of i\n",
    "                (e.g. we can create an array/tuples/numpy array that holds the sum for each of points for each cluster)\n",
    "                3) we will count the number of points that we used to generate the sum for each cluster\n",
    "                (we can also check that the sum of these counts is equal to the total number of points)\n",
    "                4) we will divide the new sums with the number of points that were used to generate them.\n",
    "                (e.g. new_centers[i] = sum_of_points[i]/count_of_points_per_cluster[i])\n",
    "\n",
    "                the result is the new centers.\n",
    "                reminder -- a new center is the center of the POINTS that were assigned to it.\n",
    "                \n",
    "            '''\n",
    "        \n",
    "        #Move the cluster center to the new position\n",
    "        for i, cluster in enumerate(self.clusters):\n",
    "            self.clusters[i] = centers[i] / self.clusterNum ''' [2]'''\n",
    "            \n",
    "            '''\n",
    "            [2] you do not need to devide by the number of cluster.\n",
    "            instead, you need to divide by the number of POINTS THAT ARE ASSIGNED TO THIS CENTER.\n",
    "            e.g. the number of points that has self.family == i\n",
    "            '''\n",
    "            \n",
    "        self.__draw__()\n",
    "    \n",
    "    def hasChanged(self):\n",
    "        return self.last_centroids == self.clusters\n",
    "\n",
    "    def __draw__(self):\n",
    "        #Create a plot figure so we can easily switch between 2D and 3D\n",
    "        fig = plt.figure()\n",
    "        \n",
    "        if self.is3D:\n",
    "            \n",
    "            #Add a 3D plot\n",
    "            ax = fig.add_subplot(111, projection='3d') \n",
    "            \n",
    "            #Prints all the points generated\n",
    "            for pointCoords in self.points:\n",
    "                #Coords[0] = x, Coords[1] = y (If 3 dimensions specified Coords[2] will be Z)\n",
    "                ax.scatter(pointCoords[0], pointCoords[1], pointCoords[2], color='red', s=10)\n",
    "\n",
    "            #Prints all the clusters generated\n",
    "            for clusterCoords in self.clusters:\n",
    "                ax.scatter(clusterCoords[0], clusterCoords[1], clusterCoords[2], color='blue', s=20)\n",
    "        #It's a 2D plot\n",
    "        else:\n",
    "            \n",
    "            # drawing points\n",
    "            plt.scatter(self.points[:,0], self.points[:,1], c=km.family)\n",
    "            \n",
    "            # drawing centers\n",
    "            plt.scatter(self.clusters[:,0], self.clusters[:,1], c='red') ''' [3] one line per plot '''\n",
    "            \n",
    "            \n",
    "            '''\n",
    "            [3]\n",
    "            it's very helptul to color the points based on the clusters.\n",
    "            when drawing a scatter plot, we don't need to draw it point by point.\n",
    "            we can give it all X values and all Y values.\n",
    "            this makes it easier to understand (for the developer).\n",
    "            in our case, we can color the points correctly if we use c=self.family\n",
    "            \n",
    "            *** I made this change only on for 2d. ***\n",
    "            \n",
    "            '''\n",
    "            \n",
    "#             #Prints all the points generated\n",
    "#             for pointCoords in self.points:\n",
    "#                 #Coords[0] = x, Coords[1] = y (If 3 dimensions specified Coords[2] will be Z)\n",
    "#                 plt.scatter(pointCoords[0], pointCoords[1], color='red', s=10)\n",
    "\n",
    "#             #Prints all the clusters generated\n",
    "#             for clusterCoords in self.clusters:\n",
    "#                 plt.scatter(clusterCoords[0], clusterCoords[1], color='blue', s=20)\n",
    "\n",
    "\n",
    "'''\n",
    "[*]\n",
    "\n",
    "keep in mind that you still need an 'assign_points' fuinction.\n",
    "the final while loop, could look like these:\n",
    "\n",
    "while <there IS a change in the point assignment> :\n",
    "    calculate_new_centers()\n",
    "    reassign_points()\n",
    "    check_if_there_is_a_change_in_the_point_assignment_from_last_assignment()\n",
    "\n",
    "'''"
   ]
  },
  {
   "cell_type": "code",
   "execution_count": 41,
   "metadata": {},
   "outputs": [
    {
     "data": {
      "image/png": "[encoded data removed]",
      "text/plain": [
       "<matplotlib.figure.Figure at 0x10876c278>"
      ]
     },
     "metadata": {},
     "output_type": "display_data"
    }
   ],
   "source": [
    "km = kmeans(0, 50, 2, 100, 2)\n",
    "km.calculateCentroids()"
   ]
  },
  {
   "cell_type": "code",
   "execution_count": 42,
   "metadata": {},
   "outputs": [
    {
     "data": {
      "image/png": "[encoded data removed]",
      "text/plain": [
       "<matplotlib.figure.Figure at 0x108b36080>"
      ]
     },
     "metadata": {},
     "output_type": "display_data"
    },
    {
     "data": {
      "image/png": "[encoded data removed]",
      "text/plain": [
       "<matplotlib.figure.Figure at 0x108881748>"
      ]
     },
     "metadata": {},
     "output_type": "display_data"
    }
   ],
   "source": [
    "\n",
    "km.center()\n",
    "km.__draw__()"
   ]
  },
  {
   "cell_type": "code",
   "execution_count": 22,
   "metadata": {},
   "outputs": [
    {
     "data": {
      "text/plain": [
       "array([31,  0, 32,  5, 45, 42, 45,  6, 26, 26, 29, 39, 20, 28, 34, 37, 11,\n",
       "       41, 23,  3, 28,  1, 19,  8, 24, 22, 26, 36, 23, 40, 41, 47, 11, 27,\n",
       "       34, 15,  3, 29, 26, 41,  6, 38, 28, 36, 43, 30, 34, 20, 27, 40, 39,\n",
       "       22, 18, 38,  4,  0,  5, 17, 23, 36, 43, 24, 38, 20, 12,  2, 42, 47,\n",
       "       45,  9,  0,  2, 43,  5, 26, 29, 49, 35,  9,  5, 30, 14, 36, 28,  5,\n",
       "       18, 49, 25,  6, 39, 35,  2, 31, 25,  9, 44, 35, 37, 43, 27])"
      ]
     },
     "execution_count": 22,
     "metadata": {},
     "output_type": "execute_result"
    }
   ],
   "source": [
    "km.points[:,0]"
   ]
  },
  {
   "cell_type": "code",
   "execution_count": 23,
   "metadata": {},
   "outputs": [
    {
     "data": {
      "text/plain": [
       "array([[31, 38],\n",
       "       [ 0, 35],\n",
       "       [32,  5],\n",
       "       [ 5, 46],\n",
       "       [45, 28],\n",
       "       [42, 41],\n",
       "       [45,  9],\n",
       "       [ 6,  3],\n",
       "       [26, 30],\n",
       "       [26, 43],\n",
       "       [29, 12],\n",
       "       [39,  7],\n",
       "       [20, 23],\n",
       "       [28, 23],\n",
       "       [34, 28],\n",
       "       [37,  1],\n",
       "       [11, 15],\n",
       "       [41, 36],\n",
       "       [23, 18],\n",
       "       [ 3, 18],\n",
       "       [28,  6],\n",
       "       [ 1,  7],\n",
       "       [19, 45],\n",
       "       [ 8, 42],\n",
       "       [24, 20],\n",
       "       [22, 36],\n",
       "       [26, 28],\n",
       "       [36, 45],\n",
       "       [23, 43],\n",
       "       [40,  9],\n",
       "       [41, 14],\n",
       "       [47, 26],\n",
       "       [11, 48],\n",
       "       [27, 25],\n",
       "       [34, 23],\n",
       "       [15, 17],\n",
       "       [ 3, 23],\n",
       "       [29, 10],\n",
       "       [26,  2],\n",
       "       [41, 48],\n",
       "       [ 6,  2],\n",
       "       [38, 14],\n",
       "       [28, 32],\n",
       "       [36,  8],\n",
       "       [43, 40],\n",
       "       [30, 37],\n",
       "       [34, 40],\n",
       "       [20, 15],\n",
       "       [27, 25],\n",
       "       [40, 43],\n",
       "       [39, 17],\n",
       "       [22, 40],\n",
       "       [18, 21],\n",
       "       [38, 10],\n",
       "       [ 4, 41],\n",
       "       [ 0, 47],\n",
       "       [ 5, 10],\n",
       "       [17, 20],\n",
       "       [23, 10],\n",
       "       [36, 26],\n",
       "       [43, 23],\n",
       "       [24,  6],\n",
       "       [38,  9],\n",
       "       [20, 33],\n",
       "       [12, 36],\n",
       "       [ 2, 12],\n",
       "       [42, 24],\n",
       "       [47,  5],\n",
       "       [45,  6],\n",
       "       [ 9,  8],\n",
       "       [ 0,  5],\n",
       "       [ 2, 16],\n",
       "       [43, 45],\n",
       "       [ 5,  0],\n",
       "       [26, 41],\n",
       "       [29,  8],\n",
       "       [49, 27],\n",
       "       [35,  5],\n",
       "       [ 9,  8],\n",
       "       [ 5, 18],\n",
       "       [30, 15],\n",
       "       [14, 20],\n",
       "       [36, 33],\n",
       "       [28,  1],\n",
       "       [ 5, 31],\n",
       "       [18, 20],\n",
       "       [49, 40],\n",
       "       [25, 43],\n",
       "       [ 6,  2],\n",
       "       [39, 36],\n",
       "       [35, 21],\n",
       "       [ 2, 37],\n",
       "       [31,  3],\n",
       "       [25, 28],\n",
       "       [ 9, 15],\n",
       "       [44,  7],\n",
       "       [35, 43],\n",
       "       [37, 19],\n",
       "       [43,  0],\n",
       "       [27, 19]])"
      ]
     },
     "execution_count": 23,
     "metadata": {},
     "output_type": "execute_result"
    }
   ],
   "source": [
    "km.points"
   ]
  },
  {
   "cell_type": "code",
   "execution_count": 12,
   "metadata": {},
   "outputs": [
    {
     "data": {
      "text/plain": [
       "array([[24, 28],\n",
       "       [16, 36]])"
      ]
     },
     "execution_count": 12,
     "metadata": {},
     "output_type": "execute_result"
    }
   ],
   "source": [
    "km.clusters"
   ]
  },
  {
   "cell_type": "code",
   "execution_count": 13,
   "metadata": {},
   "outputs": [
    {
     "data": {
      "text/plain": [
       "(2, 2)"
      ]
     },
     "execution_count": 13,
     "metadata": {},
     "output_type": "execute_result"
    }
   ],
   "source": [
    "km.clusters.shape"
   ]
  },
  {
   "cell_type": "code",
   "execution_count": 18,
   "metadata": {},
   "outputs": [
    {
     "data": {
      "text/plain": [
       "array([ 0.,  1.,  1.,  1.,  1.,  0.,  0.,  0.,  1.,  0.,  1.,  0.,  1.,\n",
       "        1.,  1.,  1.,  1.,  1.,  1.,  1.,  0.,  0.,  0.,  1.,  0.,  1.,\n",
       "        1.,  0.,  1.,  1.,  1.,  1.,  0.,  0.,  0.,  1.,  0.,  1.,  0.,\n",
       "        1.,  1.,  0.,  1.,  1.,  1.,  1.,  0.,  1.,  0.,  1.,  1.,  0.,\n",
       "        0.,  1.,  1.,  0.,  1.,  1.,  1.,  1.,  0.,  1.,  1.,  1.,  1.,\n",
       "        0.,  1.,  0.,  1.,  1.,  1.,  1.,  0.,  1.,  1.,  0.,  0.,  0.,\n",
       "        0.,  1.,  0.,  0.,  1.,  1.,  1.,  1.,  1.,  1.,  0.,  1.,  0.,\n",
       "        0.,  1.,  1.,  1.,  1.,  1.,  0.,  1.,  0.])"
      ]
     },
     "execution_count": 18,
     "metadata": {},
     "output_type": "execute_result"
    }
   ],
   "source": [
    "km.family"
   ]
  },
  {
   "cell_type": "code",
   "execution_count": 15,
   "metadata": {},
   "outputs": [
    {
     "data": {
      "text/plain": [
       "(100,)"
      ]
     },
     "execution_count": 15,
     "metadata": {},
     "output_type": "execute_result"
    }
   ],
   "source": [
    "km.family.shape"
   ]
  },
  {
   "cell_type": "code",
   "execution_count": 28,
   "metadata": {
    "scrolled": false
   },
   "outputs": [
    {
     "data": {
      "text/plain": [
       "<matplotlib.collections.PathCollection at 0x108e75f28>"
      ]
     },
     "execution_count": 28,
     "metadata": {},
     "output_type": "execute_result"
    },
    {
     "data": {
      "image/png": "[encoded data removed]",
      "text/plain": [
       "<matplotlib.figure.Figure at 0x1089fcba8>"
      ]
     },
     "metadata": {},
     "output_type": "display_data"
    }
   ],
   "source": [
    "plt.figure(1)\n",
    "plt.scatter(km.points[:,0], km.points[:,1], c=km.family)"
   ]
  },
  {
   "cell_type": "code",
   "execution_count": 27,
   "metadata": {},
   "outputs": [
    {
     "data": {
      "text/plain": [
       "array([[37, 41],\n",
       "       [47, 19]])"
      ]
     },
     "execution_count": 27,
     "metadata": {},
     "output_type": "execute_result"
    }
   ],
   "source": [
    "km.clusters\n"
   ]
  },
  {
   "cell_type": "code",
   "execution_count": null,
   "metadata": {},
   "outputs": [],
   "source": [
    "\n"
   ]
  }
 ],
 "metadata": {
  "kernelspec": {
   "display_name": "Python 3",
   "language": "python",
   "name": "python3"
  },
  "language_info": {
   "codemirror_mode": {
    "name": "ipython",
    "version": 3
   },
   "file_extension": ".py",
   "mimetype": "text/x-python",
   "name": "python",
   "nbconvert_exporter": "python",
   "pygments_lexer": "ipython3",
   "version": "3.6.0"
  }
 },
 "nbformat": 4,
 "nbformat_minor": 2
}
