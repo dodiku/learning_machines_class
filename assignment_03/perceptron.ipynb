{
 "cells": [
  {
   "cell_type": "markdown",
   "metadata": {},
   "source": [
    "# Preceptron"
   ]
  },
  {
   "cell_type": "markdown",
   "metadata": {},
   "source": [
    "``class Perceptron(ptype='or', learning_rate=0.01, iterations=100)``\n",
    "\n",
    "##### Parameters\n",
    "\n",
    "**ptype** [optional]: *string*  \n",
    "The type of the perceptron - 'or', 'and' or 'xor'.  \n",
    "Default = 'or'\n",
    "  \n",
    "  \n",
    "**learning_rate** [optional]: *float*  \n",
    "The perceptron learning rate  \n",
    "Default = 0.01  \n",
    "  \n",
    "  \n",
    "**iterations** [optional]: *int*  \n",
    "The number of learning iterations the perception will go through. Each iteration uses a random input from the perceptron 'truth table' based on the perceptron type (ptype).  \n",
    "Default = 100  "
   ]
  },
  {
   "cell_type": "code",
   "execution_count": 1,
   "metadata": {},
   "outputs": [],
   "source": [
    "import numpy as np\n",
    "import math\n",
    "\n",
    "class Perceptron():\n",
    "    \n",
    "    def __init__(self, input_dimensions=2, ptype='or', learning_rate=0.01, iterations=100):\n",
    "        \n",
    "        self.ptype = ptype\n",
    "        self.input_dimensions = input_dimensions\n",
    "        \n",
    "        if ptype == 'or':\n",
    "            self.training = np.array([[(0,0), 0],\n",
    "                                      [(1,0), 1],\n",
    "                                      [(0,1), 1],\n",
    "                                      [(1,1), 1],])\n",
    "            \n",
    "        elif ptype == 'and':\n",
    "            self.training = np.array([[(0,0), 0],\n",
    "                                      [(1,0), 0],\n",
    "                                      [(0,1), 0],\n",
    "                                      [(1,1), 1],])\n",
    "            \n",
    "        elif ptype == 'xor':\n",
    "            self.training = np.array([[(0,0), 0],\n",
    "                                      [(1,0), 1],\n",
    "                                      [(0,1), 1],\n",
    "                                      [(1,1), 0],])\n",
    "            \n",
    "        self.learning_rate = learning_rate\n",
    "        self.iterations = iterations\n",
    "        self.weights = np.random.uniform(0, 1, size=input_dimensions+1)\n",
    "        \n",
    "        print ('=> \\\"{}\\\" perceptron is ready!'.format(self.ptype))\n",
    "        \n",
    "    def train(self):\n",
    "\n",
    "        print ('Starting {} rounds of training. Initial weights: {}\\n'.format(self.iterations, self.weights))\n",
    "\n",
    "        for i in range(self.iterations):\n",
    "            \n",
    "            point = self.training[np.random.randint(0,self.training.shape[0])]\n",
    "            input_values = point[0]\n",
    "            expected_result = point[1]\n",
    "\n",
    "            current_result = input_values[0]*self.weights[0] + input_values[1]*self.weights[1] + 1*self.weights[self.input_dimensions]\n",
    "            error = expected_result - current_result\n",
    "\n",
    "            error_percent = abs(error*100)\n",
    "                        \n",
    "            for w in range(len(self.weights)-1):\n",
    "                self.weights[w] += error * input_values[w] * self.learning_rate\n",
    "\n",
    "            self.weights[self.input_dimensions] += error * 1 * self.learning_rate\n",
    "\n",
    "            print ('Training round {}/{}: New weights - {} | Error - {}%'.format(i+1, self.iterations, self.weights, round(error_percent,2)))\n",
    "\n",
    "        print ('\\nFinal weights are - {}\\nThe bias node weight is: {}'.format(self.weights[:self.input_dimensions], self.weights[self.input_dimensions]))  \n",
    "        \n",
    "    def predict(self, values=(1,1)):\n",
    "        \n",
    "        raw_prediction = values[0]*self.weights[0] + values[1]*self.weights[1] + 1*self.weights[2]\n",
    "        actual_prediction = int(round(raw_prediction))\n",
    "        \n",
    "        print ('Perceptron type: \"{}\"'.format(self.ptype))\n",
    "        print ('Raw prediction value:', raw_prediction)\n",
    "        print ('Actual prediction (using sigmoid function):', actual_prediction)\n",
    "        \n",
    "        return actual_prediction"
   ]
  },
  {
   "cell_type": "code",
   "execution_count": 2,
   "metadata": {
    "scrolled": false
   },
   "outputs": [
    {
     "name": "stdout",
     "output_type": "stream",
     "text": [
      "=> \"xor\" perceptron is ready!\n"
     ]
    }
   ],
   "source": [
    "perceptron = Perceptron(ptype='xor')"
   ]
  },
  {
   "cell_type": "code",
   "execution_count": 3,
   "metadata": {
    "scrolled": false
   },
   "outputs": [
    {
     "name": "stdout",
     "output_type": "stream",
     "text": [
      "Starting 100 rounds of training. Initial weights: [ 0.77713863  0.39488852  0.85290249]\n",
      "\n",
      "Training round 1/100: New weights - [ 0.77083822  0.39488852  0.84660208] | Error - 63.0%\n",
      "Training round 2/100: New weights - [ 0.76466381  0.39488852  0.84042767] | Error - 61.74%\n",
      "Training round 3/100: New weights - [ 0.76466381  0.39253536  0.83807451] | Error - 23.53%\n",
      "Training round 4/100: New weights - [ 0.74471108  0.37258262  0.81812178] | Error - 199.53%\n",
      "Training round 5/100: New weights - [ 0.74471108  0.37258262  0.80994056] | Error - 81.81%\n",
      "Training round 6/100: New weights - [ 0.72543873  0.35331028  0.79066821] | Error - 192.72%\n",
      "Training round 7/100: New weights - [ 0.72543873  0.35331028  0.78276153] | Error - 79.07%\n",
      "Training round 8/100: New weights - [ 0.72035673  0.35331028  0.77767953] | Error - 50.82%\n",
      "Training round 9/100: New weights - [ 0.72035673  0.35200038  0.77636963] | Error - 13.1%\n",
      "Training round 10/100: New weights - [ 0.70186946  0.33351312  0.75788236] | Error - 184.87%\n",
      "Training round 11/100: New weights - [ 0.68393681  0.31558047  0.73994972] | Error - 179.33%\n",
      "Training round 12/100: New weights - [ 0.67969795  0.31558047  0.73571085] | Error - 42.39%\n",
      "Training round 13/100: New weights - [ 0.67969795  0.31558047  0.72835374] | Error - 73.57%\n",
      "Training round 14/100: New weights - [ 0.66246163  0.29834415  0.71111742] | Error - 172.36%\n",
      "Training round 15/100: New weights - [ 0.66246163  0.29834415  0.70400625] | Error - 71.11%\n",
      "Training round 16/100: New weights - [ 0.65879695  0.29834415  0.70034157] | Error - 36.65%\n",
      "Training round 17/100: New weights - [ 0.64222212  0.28176932  0.68376674] | Error - 165.75%\n",
      "Training round 18/100: New weights - [ 0.64222212  0.28176932  0.67692907] | Error - 68.38%\n",
      "Training round 19/100: New weights - [ 0.62621292  0.26576011  0.66091987] | Error - 160.09%\n",
      "Training round 20/100: New weights - [ 0.61068399  0.25023119  0.64539094] | Error - 155.29%\n",
      "Training round 21/100: New weights - [ 0.61068399  0.25023119  0.63893703] | Error - 64.54%\n",
      "Training round 22/100: New weights - [ 0.59568547  0.23523266  0.62393851] | Error - 149.99%\n",
      "Training round 23/100: New weights - [ 0.59568547  0.23523266  0.61769912] | Error - 62.39%\n",
      "Training round 24/100: New weights - [ 0.59355162  0.23523266  0.61556528] | Error - 21.34%\n",
      "Training round 25/100: New weights - [ 0.59146045  0.23523266  0.61347411] | Error - 20.91%\n",
      "Training round 26/100: New weights - [ 0.57705878  0.22083099  0.59907244] | Error - 144.02%\n",
      "Training round 27/100: New weights - [ 0.57529747  0.22083099  0.59731112] | Error - 17.61%\n",
      "Training round 28/100: New weights - [ 0.57529747  0.22083099  0.59133801] | Error - 59.73%\n",
      "Training round 29/100: New weights - [ 0.57363111  0.22083099  0.58967166] | Error - 16.66%\n",
      "Training round 30/100: New weights - [ 0.57363111  0.22272596  0.59156663] | Error - 18.95%\n",
      "Training round 31/100: New weights - [ 0.57363111  0.22458304  0.5934237 ] | Error - 18.57%\n",
      "Training round 32/100: New weights - [ 0.57363111  0.22458304  0.58748947] | Error - 59.34%\n",
      "Training round 33/100: New weights - [ 0.57363111  0.22458304  0.58161457] | Error - 58.75%\n",
      "Training round 34/100: New weights - [ 0.57363111  0.22458304  0.57579843] | Error - 58.16%\n",
      "Training round 35/100: New weights - [ 0.55989099  0.21084291  0.5620583 ] | Error - 137.4%\n",
      "Training round 36/100: New weights - [ 0.55989099  0.2131139   0.56432929] | Error - 22.71%\n",
      "Training round 37/100: New weights - [ 0.55864878  0.2131139   0.56308709] | Error - 12.42%\n",
      "Training round 38/100: New weights - [ 0.55864878  0.2131139   0.55745622] | Error - 56.31%\n",
      "Training round 39/100: New weights - [ 0.54535659  0.19982171  0.54416403] | Error - 132.92%\n",
      "Training round 40/100: New weights - [ 0.53246317  0.18692829  0.5312706 ] | Error - 128.93%\n",
      "Training round 41/100: New weights - [ 0.53246317  0.18692829  0.5259579 ] | Error - 53.13%\n",
      "Training round 42/100: New weights - [ 0.53246317  0.18979943  0.52882904] | Error - 28.71%\n",
      "Training round 43/100: New weights - [ 0.53185025  0.18979943  0.52821611] | Error - 6.13%\n",
      "Training round 44/100: New weights - [ 0.53185025  0.19261927  0.53103596] | Error - 28.2%\n",
      "Training round 45/100: New weights - [ 0.51929519  0.18006422  0.5184809 ] | Error - 125.55%\n",
      "Training round 46/100: New weights - [ 0.51929519  0.18006422  0.51329609] | Error - 51.85%\n",
      "Training round 47/100: New weights - [ 0.51896928  0.18006422  0.51297018] | Error - 3.26%\n",
      "Training round 48/100: New weights - [ 0.51896928  0.18313387  0.51603984] | Error - 30.7%\n",
      "Training round 49/100: New weights - [ 0.51861919  0.18313387  0.51568975] | Error - 3.5%\n",
      "Training round 50/100: New weights - [ 0.51861919  0.18313387  0.51053285] | Error - 51.57%\n",
      "Training round 51/100: New weights - [ 0.51861919  0.18313387  0.50542752] | Error - 51.05%\n",
      "Training round 52/100: New weights - [ 0.51861919  0.18313387  0.50037324] | Error - 50.54%\n",
      "Training round 53/100: New weights - [ 0.51861919  0.1862988   0.50353817] | Error - 31.65%\n",
      "Training round 54/100: New weights - [ 0.50653463  0.17421424  0.49145361] | Error - 120.85%\n",
      "Training round 55/100: New weights - [ 0.4948126   0.16249221  0.47973159] | Error - 117.22%\n",
      "Training round 56/100: New weights - [ 0.48344224  0.15112185  0.46836122] | Error - 113.7%\n",
      "Training round 57/100: New weights - [ 0.47241299  0.1400926   0.45733197] | Error - 110.29%\n",
      "Training round 58/100: New weights - [ 0.47241299  0.14411835  0.46135772] | Error - 40.26%\n",
      "Training round 59/100: New weights - [ 0.47241299  0.14806359  0.46530296] | Error - 39.45%\n",
      "Training round 60/100: New weights - [ 0.47241299  0.14806359  0.46064993] | Error - 46.53%\n",
      "Training round 61/100: New weights - [ 0.47241299  0.14806359  0.45604343] | Error - 46.06%\n",
      "Training round 62/100: New weights - [ 0.47241299  0.15202252  0.46000236] | Error - 39.59%\n",
      "Training round 63/100: New weights - [ 0.46156861  0.14117814  0.44915799] | Error - 108.44%\n",
      "Training round 64/100: New weights - [ 0.46156861  0.14527478  0.45325462] | Error - 40.97%\n",
      "Training round 65/100: New weights - [ 0.46156861  0.14928949  0.45726933] | Error - 40.15%\n",
      "Training round 66/100: New weights - [ 0.46156861  0.1532239   0.46120374] | Error - 39.34%\n",
      "Training round 67/100: New weights - [ 0.46156861  0.15707962  0.46505947] | Error - 38.56%\n",
      "Training round 68/100: New weights - [ 0.45073153  0.14624255  0.45422239] | Error - 108.37%\n",
      "Training round 69/100: New weights - [ 0.44021957  0.13573058  0.44371042] | Error - 105.12%\n",
      "Training round 70/100: New weights - [ 0.44138027  0.13573058  0.44487112] | Error - 11.61%\n",
      "Training round 71/100: New weights - [ 0.43116045  0.12551076  0.4346513 ] | Error - 102.2%\n",
      "Training round 72/100: New weights - [ 0.43116045  0.12990914  0.43904968] | Error - 43.98%\n",
      "Training round 73/100: New weights - [ 0.42115925  0.11990795  0.42904849] | Error - 100.01%\n",
      "Training round 74/100: New weights - [ 0.42115925  0.12441838  0.43355893] | Error - 45.1%\n",
      "Training round 75/100: New weights - [ 0.42261207  0.12441838  0.43501175] | Error - 14.53%\n",
      "Training round 76/100: New weights - [ 0.42261207  0.12882408  0.43941744] | Error - 44.06%\n",
      "Training round 77/100: New weights - [ 0.42261207  0.12882408  0.43502327] | Error - 43.94%\n",
      "Training round 78/100: New weights - [ 0.41274748  0.11895949  0.42515868] | Error - 98.65%\n",
      "Training round 79/100: New weights - [ 0.41274748  0.11895949  0.42090709] | Error - 42.52%\n",
      "Training round 80/100: New weights - [ 0.40322134  0.10943335  0.41138095] | Error - 95.26%\n",
      "Training round 81/100: New weights - [ 0.40322134  0.1142252   0.4161728 ] | Error - 47.92%\n",
      "Training round 82/100: New weights - [ 0.39388514  0.10488901  0.40683661] | Error - 93.36%\n",
      "Training round 83/100: New weights - [ 0.39587793  0.10488901  0.40882939] | Error - 19.93%\n",
      "Training round 84/100: New weights - [ 0.38678196  0.09579305  0.39973343] | Error - 90.96%\n",
      "Training round 85/100: New weights - [ 0.38678196  0.09579305  0.3957361 ] | Error - 39.97%\n",
      "Training round 86/100: New weights - [ 0.38678196  0.09579305  0.39177874] | Error - 39.57%\n",
      "Training round 87/100: New weights - [ 0.38678196  0.09579305  0.38786095] | Error - 39.18%\n",
      "Training round 88/100: New weights - [ 0.38678196  0.10095651  0.39302441] | Error - 51.63%\n",
      "Training round 89/100: New weights - [ 0.3889839   0.10095651  0.39522634] | Error - 22.02%\n",
      "Training round 90/100: New weights - [ 0.3889839   0.10095651  0.39127408] | Error - 39.52%\n",
      "Training round 91/100: New weights - [ 0.3889839   0.1060342   0.39635178] | Error - 50.78%\n",
      "Training round 92/100: New weights - [ 0.3800702   0.0971205   0.38743808] | Error - 89.14%\n",
      "Training round 93/100: New weights - [ 0.37142391  0.08847421  0.37879179] | Error - 86.46%\n",
      "Training round 94/100: New weights - [ 0.37142391  0.09380155  0.38411913] | Error - 53.27%\n",
      "Training round 95/100: New weights - [ 0.37142391  0.09380155  0.38027794] | Error - 38.41%\n",
      "Training round 96/100: New weights - [ 0.37142391  0.09906076  0.38553714] | Error - 52.59%\n",
      "Training round 97/100: New weights - [ 0.37142391  0.10421478  0.39069116] | Error - 51.54%\n",
      "Training round 98/100: New weights - [ 0.37142391  0.10421478  0.38678425] | Error - 39.07%\n",
      "Training round 99/100: New weights - [ 0.37142391  0.10930479  0.39187426] | Error - 50.9%\n",
      "Training round 100/100: New weights - [ 0.37142391  0.114293    0.39686247] | Error - 49.88%\n",
      "\n",
      "Final weights are - [ 0.37142391  0.114293  ]\n",
      "The bias node weight is: 0.39686247076018344\n"
     ]
    }
   ],
   "source": [
    "perceptron.train()"
   ]
  },
  {
   "cell_type": "code",
   "execution_count": 4,
   "metadata": {
    "scrolled": false
   },
   "outputs": [
    {
     "name": "stdout",
     "output_type": "stream",
     "text": [
      "Perceptron type: \"xor\"\n",
      "Raw prediction value: 0.39686247076\n",
      "Actual prediction (using sigmoid function): 0\n"
     ]
    },
    {
     "data": {
      "text/plain": [
       "0"
      ]
     },
     "execution_count": 4,
     "metadata": {},
     "output_type": "execute_result"
    }
   ],
   "source": [
    "perceptron.predict((0,0))"
   ]
  }
 ],
 "metadata": {
  "kernelspec": {
   "display_name": "Python 3",
   "language": "python",
   "name": "python3"
  },
  "language_info": {
   "codemirror_mode": {
    "name": "ipython",
    "version": 3
   },
   "file_extension": ".py",
   "mimetype": "text/x-python",
   "name": "python",
   "nbconvert_exporter": "python",
   "pygments_lexer": "ipython3",
   "version": "3.6.0"
  }
 },
 "nbformat": 4,
 "nbformat_minor": 2
}
