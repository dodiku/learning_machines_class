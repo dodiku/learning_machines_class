{
 "cells": [
  {
   "cell_type": "markdown",
   "metadata": {},
   "source": [
    "# Preceptron"
   ]
  },
  {
   "cell_type": "markdown",
   "metadata": {},
   "source": [
    "``class Perceptron(ptype='or', learning_rate=0.01, iterations=100)``\n",
    "\n",
    "##### Parameters\n",
    "\n",
    "**ptype** [optional]: *string*  \n",
    "The type of the perceptron - 'or', 'and' or 'xor'.  \n",
    "Default = 'or'\n",
    "  \n",
    "  \n",
    "**learning_rate** [optional]: *float*  \n",
    "The perceptron learning rate  \n",
    "Default = 0.01  \n",
    "  \n",
    "  \n",
    "**iterations** [optional]: *int*  \n",
    "The number of learning iterations the perception will go through. Each iteration uses a random input from the perceptron 'truth table' based on the perceptron type (ptype).  \n",
    "Default = 100  "
   ]
  },
  {
   "cell_type": "code",
   "execution_count": 398,
   "metadata": {},
   "outputs": [],
   "source": [
    "import numpy as np\n",
    "import math\n",
    "\n",
    "class Perceptron():\n",
    "    \n",
    "    def __init__(self, input_dimensions=2, ptype='or', learning_rate=0.01, iterations=100):\n",
    "        \n",
    "        self.ptype = ptype\n",
    "        self.input_dimensions = input_dimensions\n",
    "        \n",
    "        if ptype == 'or':\n",
    "            self.training = np.array([[(0,0), 0],\n",
    "                                      [(1,0), 1],\n",
    "                                      [(0,1), 1],\n",
    "                                      [(1,1), 1],])\n",
    "            \n",
    "        elif ptype == 'and':\n",
    "            self.training = np.array([[(0,0), 0],\n",
    "                                      [(1,0), 0],\n",
    "                                      [(0,1), 0],\n",
    "                                      [(1,1), 1],])\n",
    "            \n",
    "        elif ptype == 'xor':\n",
    "            self.training = np.array([[(0,0), 0],\n",
    "                                      [(1,0), 1],\n",
    "                                      [(0,1), 1],\n",
    "                                      [(1,1), 0],])\n",
    "            \n",
    "        self.learning_rate = learning_rate\n",
    "        self.iterations = iterations\n",
    "        self.weights = np.random.uniform(0, 1, size=input_dimensions+1)\n",
    "        \n",
    "        print ('=> \\\"{}\\\" perceptron is ready!'.format(self.ptype))\n",
    "        \n",
    "    def train(self):\n",
    "\n",
    "        print ('Starting {} rounds of training. Initial weights: {}\\n'.format(self.iterations, self.weights))\n",
    "\n",
    "        for i in range(self.iterations):\n",
    "            \n",
    "            point = self.training[np.random.randint(0,self.training.shape[0])]\n",
    "            input_values = point[0]\n",
    "            expected_result = point[1]\n",
    "\n",
    "            current_result = input_values[0]*self.weights[0] + input_values[1]*self.weights[1] + 1*self.weights[self.input_dimensions]\n",
    "            error = expected_result - current_result\n",
    "\n",
    "            error_percent = abs(error*100)\n",
    "                        \n",
    "            for w in range(len(self.weights)-1):\n",
    "                self.weights[w] = self.weights[w] + error * input_values[w] * self.learning_rate\n",
    "\n",
    "            self.weights[self.input_dimensions] = self.weights[self.input_dimensions] + error * 1 * self.learning_rate\n",
    "\n",
    "            print ('Training round {}/{}: New weights - {} | Error - {}%'.format(i+1, self.iterations, self.weights, round(error_percent,2)))\n",
    "\n",
    "        print ('\\nFinal weights are - {}\\nThe bias node weight is: {}'.format(self.weights[:self.input_dimensions], self.weights[self.input_dimensions]))  \n",
    "        \n",
    "    def predict(self, values=(1,1)):\n",
    "        \n",
    "        raw_prediction = values[0]*self.weights[0] + values[1]*self.weights[1] + 1*self.weights[2]\n",
    "        \n",
    "        # sigmoid function\n",
    "        # credit: https://stackoverflow.com/questions/3985619/how-to-calculate-a-logistic-sigmoid-function-in-python\n",
    "        actual_prediction = int(round(raw_prediction))\n",
    "        \n",
    "        print ('Perceptron type: \"{}\"'.format(self.ptype))\n",
    "        print ('Raw prediction value:', raw_prediction)\n",
    "        print ('Actual prediction (using sigmoid function):', actual_prediction)\n",
    "        \n",
    "        return actual_prediction"
   ]
  },
  {
   "cell_type": "code",
   "execution_count": 399,
   "metadata": {
    "scrolled": false
   },
   "outputs": [
    {
     "name": "stdout",
     "output_type": "stream",
     "text": [
      "=> \"xor\" perceptron is ready!\n"
     ]
    }
   ],
   "source": [
    "perceptron = Perceptron(ptype='xor')"
   ]
  },
  {
   "cell_type": "code",
   "execution_count": 409,
   "metadata": {
    "scrolled": false
   },
   "outputs": [
    {
     "name": "stdout",
     "output_type": "stream",
     "text": [
      "Starting 100 rounds of training. Initial weights: [ 0.37844626  0.1985      0.33309229]\n",
      "\n",
      "Training round 1/100: New weights - [ 0.37844626  0.1985      0.32976137] | Error - 33.31%\n",
      "Training round 2/100: New weights - [ 0.36937919  0.18943292  0.32069429] | Error - 90.67%\n",
      "Training round 3/100: New weights - [ 0.37247845  0.18943292  0.32379356] | Error - 30.99%\n",
      "Training round 4/100: New weights - [ 0.37551573  0.18943292  0.32683084] | Error - 30.37%\n",
      "Training round 5/100: New weights - [ 0.37551573  0.19427029  0.3316682 ] | Error - 48.37%\n",
      "Training round 6/100: New weights - [ 0.36650119  0.18525574  0.32265366] | Error - 90.15%\n",
      "Training round 7/100: New weights - [ 0.35775708  0.17651164  0.31390955] | Error - 87.44%\n",
      "Training round 8/100: New weights - [ 0.36104042  0.17651164  0.31719288] | Error - 32.83%\n",
      "Training round 9/100: New weights - [ 0.36425808  0.17651164  0.32041055] | Error - 32.18%\n",
      "Training round 10/100: New weights - [ 0.36425808  0.17651164  0.31720644] | Error - 32.04%\n",
      "Training round 11/100: New weights - [ 0.36425808  0.17651164  0.31403438] | Error - 31.72%\n",
      "Training round 12/100: New weights - [ 0.36425808  0.17651164  0.31089404] | Error - 31.4%\n",
      "Training round 13/100: New weights - [ 0.36425808  0.17651164  0.3077851 ] | Error - 31.09%\n",
      "Training round 14/100: New weights - [ 0.36753765  0.17651164  0.31106466] | Error - 32.8%\n",
      "Training round 15/100: New weights - [ 0.36753765  0.18163588  0.3161889 ] | Error - 51.24%\n",
      "Training round 16/100: New weights - [ 0.37070039  0.18163588  0.31935164] | Error - 31.63%\n",
      "Training round 17/100: New weights - [ 0.36198351  0.172919    0.31063476] | Error - 87.17%\n",
      "Training round 18/100: New weights - [ 0.36525732  0.172919    0.31390857] | Error - 32.74%\n",
      "Training round 19/100: New weights - [ 0.36846567  0.172919    0.31711692] | Error - 32.08%\n",
      "Training round 20/100: New weights - [ 0.36846567  0.17801864  0.32221656] | Error - 51.0%\n",
      "Training round 21/100: New weights - [ 0.36846567  0.17801864  0.31899439] | Error - 32.22%\n",
      "Training round 22/100: New weights - [ 0.37159106  0.17801864  0.32211979] | Error - 31.25%\n",
      "Training round 23/100: New weights - [ 0.37159106  0.18301725  0.32711841] | Error - 49.99%\n",
      "Training round 24/100: New weights - [ 0.37460397  0.18301725  0.33013131] | Error - 30.13%\n",
      "Training round 25/100: New weights - [ 0.37755662  0.18301725  0.33308396] | Error - 29.53%\n",
      "Training round 26/100: New weights - [ 0.37755662  0.18301725  0.32975312] | Error - 33.31%\n",
      "Training round 27/100: New weights - [ 0.37755662  0.18788955  0.33462542] | Error - 48.72%\n",
      "Training round 28/100: New weights - [ 0.37755662  0.1926644   0.33940027] | Error - 47.75%\n",
      "Training round 29/100: New weights - [ 0.37755662  0.19734375  0.34407962] | Error - 46.79%\n",
      "Training round 30/100: New weights - [ 0.38034025  0.19734375  0.34686326] | Error - 27.84%\n",
      "Training round 31/100: New weights - [ 0.37109478  0.18809828  0.33761778] | Error - 92.45%\n",
      "Training round 32/100: New weights - [ 0.37400766  0.18809828  0.34053066] | Error - 29.13%\n",
      "Training round 33/100: New weights - [ 0.37400766  0.18809828  0.33712535] | Error - 34.05%\n",
      "Training round 34/100: New weights - [ 0.37400766  0.18809828  0.3337541 ] | Error - 33.71%\n",
      "Training round 35/100: New weights - [ 0.37693004  0.18809828  0.33667648] | Error - 29.22%\n",
      "Training round 36/100: New weights - [ 0.37693004  0.18809828  0.33330972] | Error - 33.67%\n",
      "Training round 37/100: New weights - [ 0.37693004  0.18809828  0.32997662] | Error - 33.33%\n",
      "Training round 38/100: New weights - [ 0.37693004  0.18809828  0.32667685] | Error - 33.0%\n",
      "Training round 39/100: New weights - [ 0.37693004  0.19295053  0.3315291 ] | Error - 48.52%\n",
      "Training round 40/100: New weights - [ 0.37693004  0.19770573  0.3362843 ] | Error - 47.55%\n",
      "Training round 41/100: New weights - [ 0.37693004  0.19770573  0.33292146] | Error - 33.63%\n",
      "Training round 42/100: New weights - [ 0.37983152  0.19770573  0.33582295] | Error - 29.01%\n",
      "Training round 43/100: New weights - [ 0.37983152  0.20237045  0.34048766] | Error - 46.65%\n",
      "Training round 44/100: New weights - [ 0.37060463  0.19314355  0.33126076] | Error - 92.27%\n",
      "Training round 45/100: New weights - [ 0.37358597  0.19314355  0.33424211] | Error - 29.81%\n",
      "Training round 46/100: New weights - [ 0.37650769  0.19314355  0.33716383] | Error - 29.22%\n",
      "Training round 47/100: New weights - [ 0.36743954  0.1840754   0.32809568] | Error - 90.68%\n",
      "Training round 48/100: New weights - [ 0.36743954  0.1840754   0.32481472] | Error - 32.81%\n",
      "Training round 49/100: New weights - [ 0.35867625  0.1753121   0.31605142] | Error - 87.63%\n",
      "Training round 50/100: New weights - [ 0.36192897  0.1753121   0.31930415] | Error - 32.53%\n",
      "Training round 51/100: New weights - [ 0.36192897  0.18036594  0.32435799] | Error - 50.54%\n",
      "Training round 52/100: New weights - [ 0.3650661   0.18036594  0.32749512] | Error - 31.37%\n",
      "Training round 53/100: New weights - [ 0.3650661   0.18036594  0.32422016] | Error - 32.75%\n",
      "Training round 54/100: New weights - [ 0.3650661   0.18532008  0.3291743 ] | Error - 49.54%\n",
      "Training round 55/100: New weights - [ 0.3650661   0.19017514  0.33402936] | Error - 48.55%\n",
      "Training round 56/100: New weights - [ 0.3650661   0.19017514  0.33068907] | Error - 33.4%\n",
      "Training round 57/100: New weights - [ 0.3650661   0.19017514  0.32738218] | Error - 33.07%\n",
      "Training round 58/100: New weights - [ 0.36814162  0.19017514  0.33045769] | Error - 30.76%\n",
      "Training round 59/100: New weights - [ 0.37115562  0.19017514  0.3334717 ] | Error - 30.14%\n",
      "Training round 60/100: New weights - [ 0.37410935  0.19017514  0.33642543] | Error - 29.54%\n",
      "Training round 61/100: New weights - [ 0.37410935  0.19490913  0.34115942] | Error - 47.34%\n",
      "Training round 62/100: New weights - [ 0.37410935  0.19490913  0.33774783] | Error - 34.12%\n",
      "Training round 63/100: New weights - [ 0.37699078  0.19490913  0.34062925] | Error - 28.81%\n",
      "Training round 64/100: New weights - [ 0.37981458  0.19490913  0.34345305] | Error - 28.24%\n",
      "Training round 65/100: New weights - [ 0.37063281  0.18572736  0.33427129] | Error - 91.82%\n",
      "Training round 66/100: New weights - [ 0.37063281  0.18572736  0.33092857] | Error - 33.43%\n",
      "Training round 67/100: New weights - [ 0.36175992  0.17685447  0.32205569] | Error - 88.73%\n",
      "Training round 68/100: New weights - [ 0.35315322  0.16824777  0.31344899] | Error - 86.07%\n",
      "Training round 69/100: New weights - [ 0.35315322  0.16824777  0.3103145 ] | Error - 31.34%\n",
      "Training round 70/100: New weights - [ 0.35315322  0.17346215  0.31552887] | Error - 52.14%\n",
      "Training round 71/100: New weights - [ 0.35315322  0.17857224  0.32063896] | Error - 51.1%\n",
      "Training round 72/100: New weights - [ 0.3564153   0.17857224  0.32390104] | Error - 32.62%\n",
      "Training round 73/100: New weights - [ 0.34782641  0.16998335  0.31531216] | Error - 85.89%\n",
      "Training round 74/100: New weights - [ 0.34782641  0.16998335  0.31215903] | Error - 31.53%\n",
      "Training round 75/100: New weights - [ 0.34782641  0.17516193  0.31733761] | Error - 51.79%\n",
      "Training round 76/100: New weights - [ 0.33942315  0.16675867  0.30893435] | Error - 84.03%\n",
      "Training round 77/100: New weights - [ 0.33942315  0.17200174  0.31417742] | Error - 52.43%\n",
      "Training round 78/100: New weights - [ 0.34288715  0.17200174  0.31764141] | Error - 34.64%\n",
      "Training round 79/100: New weights - [ 0.33456185  0.16367644  0.30931611] | Error - 83.25%\n",
      "Training round 80/100: New weights - [ 0.33812307  0.16367644  0.31287733] | Error - 35.61%\n",
      "Training round 81/100: New weights - [ 0.33812307  0.16367644  0.30974856] | Error - 31.29%\n",
      "Training round 82/100: New weights - [ 0.34164435  0.16367644  0.31326984] | Error - 35.21%\n",
      "Training round 83/100: New weights - [ 0.33345844  0.15549053  0.30508394] | Error - 81.86%\n",
      "Training round 84/100: New weights - [ 0.33345844  0.15549053  0.3020331 ] | Error - 30.51%\n",
      "Training round 85/100: New weights - [ 0.32554862  0.14758071  0.29412328] | Error - 79.1%\n",
      "Training round 86/100: New weights - [ 0.32554862  0.15316367  0.29970624] | Error - 55.83%\n",
      "Training round 87/100: New weights - [ 0.32554862  0.15863497  0.30517754] | Error - 54.71%\n",
      "Training round 88/100: New weights - [ 0.32554862  0.15863497  0.30212576] | Error - 30.52%\n",
      "Training round 89/100: New weights - [ 0.32554862  0.16402736  0.30751815] | Error - 53.92%\n",
      "Training round 90/100: New weights - [ 0.32921796  0.16402736  0.31118749] | Error - 36.69%\n",
      "Training round 91/100: New weights - [ 0.32117363  0.15598304  0.30314316] | Error - 80.44%\n",
      "Training round 92/100: New weights - [ 0.31337063  0.14818004  0.29534016] | Error - 78.03%\n",
      "Training round 93/100: New weights - [ 0.30580172  0.14061113  0.28777125] | Error - 75.69%\n",
      "Training round 94/100: New weights - [ 0.30986599  0.14061113  0.29183552] | Error - 40.64%\n",
      "Training round 95/100: New weights - [ 0.31384898  0.14061113  0.29581851] | Error - 39.83%\n",
      "Training round 96/100: New weights - [ 0.31384898  0.14061113  0.29286032] | Error - 29.58%\n",
      "Training round 97/100: New weights - [ 0.31384898  0.14627642  0.29852561] | Error - 56.65%\n",
      "Training round 98/100: New weights - [ 0.30626247  0.13868991  0.2909391 ] | Error - 75.87%\n",
      "Training round 99/100: New weights - [ 0.30626247  0.14439362  0.29664281] | Error - 57.04%\n",
      "Training round 100/100: New weights - [ 0.30626247  0.14439362  0.29367638] | Error - 29.66%\n",
      "\n",
      "Final weights are - [ 0.30626247  0.14439362]\n",
      "The bias node weight is: 0.29367637933493546\n"
     ]
    }
   ],
   "source": [
    "perceptron.train()"
   ]
  },
  {
   "cell_type": "code",
   "execution_count": 410,
   "metadata": {
    "scrolled": false
   },
   "outputs": [
    {
     "name": "stdout",
     "output_type": "stream",
     "text": [
      "Perceptron type: \"xor\"\n",
      "Raw prediction value: 0.293676379335\n",
      "Actual prediction (using sigmoid function): 0\n"
     ]
    },
    {
     "data": {
      "text/plain": [
       "0"
      ]
     },
     "execution_count": 410,
     "metadata": {},
     "output_type": "execute_result"
    }
   ],
   "source": [
    "perceptron.predict((0,0))"
   ]
  }
 ],
 "metadata": {
  "kernelspec": {
   "display_name": "Python 3",
   "language": "python",
   "name": "python3"
  },
  "language_info": {
   "codemirror_mode": {
    "name": "ipython",
    "version": 3
   },
   "file_extension": ".py",
   "mimetype": "text/x-python",
   "name": "python",
   "nbconvert_exporter": "python",
   "pygments_lexer": "ipython3",
   "version": "3.6.0"
  }
 },
 "nbformat": 4,
 "nbformat_minor": 2
}
